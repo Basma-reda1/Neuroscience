{
 "cells": [
  {
   "cell_type": "code",
   "execution_count": 1,
   "id": "1f3f4d0f-c92c-4ff3-8f4e-57642cfe52f1",
   "metadata": {},
   "outputs": [
    {
     "name": "stdout",
     "output_type": "stream",
     "text": [
      "Random Weights: w1=0.13942679845788375, w2=-0.47498924477733306, w3=-0.22497068163088074, w4=-0.27678926185117725, w5=0.2364712141640124, w6=0.1766994874229113, w7=0.3921795677048454, w8=-0.41306116737058385\n",
      "Hidden Layer Outputs: h1=0.4498197412198859, h2=0.4207241610054541\n",
      "Output Layer Outputs: o1=0.7493051963626727, o2=0.5410917978946347\n"
     ]
    }
   ],
   "source": [
    "import random\n",
    "def tanh(x):\n",
    "    e_pos = 2.718281828459045 ** x\n",
    "    e_neg = 2.718281828459045 ** (-x)\n",
    "    return (e_pos - e_neg) / (e_pos + e_neg)\n",
    "\n",
    "random.seed(42)\n",
    "i1, i2 = 0.05, 0.10\n",
    "b1, b2 = 0.5, 0.7\n",
    "\n",
    "w1 = random.uniform(-0.5, 0.5)\n",
    "w2 = random.uniform(-0.5, 0.5)\n",
    "w3 = random.uniform(-0.5, 0.5)\n",
    "w4 = random.uniform(-0.5, 0.5)\n",
    "w5 = random.uniform(-0.5, 0.5)\n",
    "w6 = random.uniform(-0.5, 0.5)\n",
    "w7 = random.uniform(-0.5, 0.5)\n",
    "w8 = random.uniform(-0.5, 0.5)\n",
    "\n",
    "h1_input = i1 * w1 + i2 * w3 + b1\n",
    "h2_input = i1 * w2 + i2 * w4 + b1\n",
    "h1_output = tanh(h1_input)\n",
    "h2_output = tanh(h2_input)\n",
    "o1_input = h1_output * w5 + h2_output * w7 + b2\n",
    "o2_input = h1_output * w6 + h2_output * w8 + b2\n",
    "o1_output = tanh(o1_input)\n",
    "o2_output = tanh(o2_input)\n",
    "\n",
    "print(f\"Random Weights: w1={w1}, w2={w2}, w3={w3}, w4={w4}, w5={w5}, w6={w6}, w7={w7}, w8={w8}\")\n",
    "print(f\"Hidden Layer Outputs: h1={h1_output}, h2={h2_output}\")\n",
    "print(f\"Output Layer Outputs: o1={o1_output}, o2={o2_output}\")"
   ]
  },
  {
   "cell_type": "code",
   "execution_count": null,
   "id": "dcedb618-f0c2-4953-bace-ad89ef6f2189",
   "metadata": {},
   "outputs": [],
   "source": []
  }
 ],
 "metadata": {
  "kernelspec": {
   "display_name": "Python 3 (ipykernel)",
   "language": "python",
   "name": "python3"
  },
  "language_info": {
   "codemirror_mode": {
    "name": "ipython",
    "version": 3
   },
   "file_extension": ".py",
   "mimetype": "text/x-python",
   "name": "python",
   "nbconvert_exporter": "python",
   "pygments_lexer": "ipython3",
   "version": "3.12.7"
  }
 },
 "nbformat": 4,
 "nbformat_minor": 5
}
