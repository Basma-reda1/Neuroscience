{
 "cells": [
  {
   "cell_type": "code",
   "execution_count": 1,
   "id": "a9baedc8-7021-444b-b870-e05035279c15",
   "metadata": {},
   "outputs": [
    {
     "name": "stdout",
     "output_type": "stream",
     "text": [
      "Output of the network: [0.67219531]\n"
     ]
    }
   ],
   "source": [
    "import numpy as np\n",
    "\n",
    "# Activation function (tanh)\n",
    "def tanh(x):\n",
    "    return np.tanh(x)\n",
    "\n",
    "# Derivative of the tanh function (used for backpropagation if needed)\n",
    "def tanh_derivative(x):\n",
    "    return 1 - np.tanh(x)**2\n",
    "\n",
    "# Initialize weights randomly from [-0.5, 0.5]\n",
    "def initialize_weights(input_size, output_size):\n",
    "    return np.random.uniform(-0.5, 0.5, size=(input_size, output_size))\n",
    "\n",
    "# Neural network parameters\n",
    "input_size = 3  # Number of input neurons\n",
    "hidden_size = 4  # Number of hidden layer neurons\n",
    "output_size = 1  # Output layer neurons\n",
    "\n",
    "# Biases\n",
    "b1 = 0.5  # Bias for hidden layer\n",
    "b2 = 0.7  # Bias for output layer\n",
    "\n",
    "# Initialize weights for input to hidden layer, and hidden to output layer\n",
    "weights_input_hidden = initialize_weights(input_size, hidden_size)\n",
    "weights_hidden_output = initialize_weights(hidden_size, output_size)\n",
    "\n",
    "# Input values (can be any example input data)\n",
    "X = np.array([0.1, 0.2, 0.3])\n",
    "\n",
    "# Forward pass through the network\n",
    "# Hidden layer calculation\n",
    "hidden_input = np.dot(X, weights_input_hidden) + b1\n",
    "hidden_output = tanh(hidden_input)\n",
    "\n",
    "# Output layer calculation\n",
    "output_input = np.dot(hidden_output, weights_hidden_output) + b2\n",
    "output = tanh(output_input)\n",
    "\n",
    "# Print the output of the network\n",
    "print(f\"Output of the network: {output}\")"
   ]
  },
  {
   "cell_type": "code",
   "execution_count": 3,
   "id": "a9ab92f6-3cd7-4bc8-93bc-ce48af4b3c48",
   "metadata": {},
   "outputs": [
    {
     "name": "stdout",
     "output_type": "stream",
     "text": [
      "Random Weights: [-0.12545988  0.45071431  0.23199394  0.09865848 -0.34398136 -0.34400548\n",
      " -0.44191639  0.36617615]\n",
      "Hidden Layer Outputs: h1 = 0.4753243188387696 , h2 = 0.4872147174733912\n",
      "Output Layer Outputs: o1 = 0.31058173983520415 , o2 = 0.6137354642661549\n"
     ]
    }
   ],
   "source": [
    "import numpy as np\n",
    "\n",
    "# Activation function (tanh)\n",
    "def tanh(x):\n",
    "    return np.tanh(x)\n",
    "\n",
    "# Inputs\n",
    "i1, i2 = 0.05, 0.10\n",
    "\n",
    "# Bias values\n",
    "b1, b2 = 0.5, 0.7\n",
    "\n",
    "# Randomly initialize weights in range [-0.5, 0.5]\n",
    "np.random.seed(42)  # For reproducibility\n",
    "weights = np.random.uniform(-0.5, 0.5, 8)\n",
    "\n",
    "# Extract weights\n",
    "w1, w2, w3, w4, w5, w6, w7, w8 = weights\n",
    "\n",
    "# Compute hidden layer activations\n",
    "h1_input = i1 * w1 + i2 * w3 + b1\n",
    "h2_input = i1 * w2 + i2 * w4 + b1\n",
    "\n",
    "h1_output = tanh(h1_input)\n",
    "h2_output = tanh(h2_input)\n",
    "\n",
    "# Compute output layer activations\n",
    "o1_input = h1_output * w5 + h2_output * w7 + b2\n",
    "o2_input = h1_output * w6 + h2_output * w8 + b2\n",
    "\n",
    "o1_output = tanh(o1_input)\n",
    "o2_output = tanh(o2_input)\n",
    "\n",
    "# Print results\n",
    "print(\"Random Weights:\", weights)\n",
    "print(\"Hidden Layer Outputs: h1 =\", h1_output, \", h2 =\", h2_output)\n",
    "print(\"Output Layer Outputs: o1 =\", o1_output, \", o2 =\", o2_output)\n",
    "\n",
    "# Let me know if you’d like any modifications! ✌️\n"
   ]
  },
  {
   "cell_type": "code",
   "execution_count": 9,
   "id": "6528ec52-9358-4b31-942b-2d46219c7da7",
   "metadata": {},
   "outputs": [
    {
     "name": "stdout",
     "output_type": "stream",
     "text": [
      "Weights:\n",
      "w1: 0.15, w2: 0.2, w3: 0.25, w4: 0.3, w5: 0.4, w6: 0.45, w7: 0.5, w8: 0.55\n",
      "Hidden Layer Outputs: h1 = 0.3648766043861295 , h2 = 0.37136022787650763\n",
      "Output Layer Outputs: o1 = 0.7313533020508975 , o2 = 0.748019100588152\n"
     ]
    }
   ],
   "source": [
    "import numpy as np\n",
    "\n",
    "# Activation function (tanh)\n",
    "def tanh(x):\n",
    "    return np.tanh(x)\n",
    "\n",
    "# Inputs\n",
    "i1, i2 = 0.05, 0.10\n",
    "\n",
    "# Bias values\n",
    "b1, b2 = 0.35, 0.60\n",
    "\n",
    "# Weights from the image\n",
    "w1, w2, w3, w4 = 0.15, 0.20, 0.25, 0.30\n",
    "w5, w6, w7, w8 = 0.40, 0.45, 0.50, 0.55\n",
    "\n",
    "# Compute hidden layer activations\n",
    "h1_input = i1 * w1 + i2 * w3 + b1\n",
    "h2_input = i1 * w2 + i2 * w4 + b1\n",
    "\n",
    "h1_output = tanh(h1_input)\n",
    "h2_output = tanh(h2_input)\n",
    "\n",
    "# Compute output layer activations\n",
    "o1_input = h1_output * w5 + h2_output * w7 + b2\n",
    "o2_input = h1_output * w6 + h2_output * w8 + b2\n",
    "\n",
    "o1_output = tanh(o1_input)\n",
    "o2_output = tanh(o2_input)\n",
    "\n",
    "# Print results\n",
    "print(\"Weights:\")\n",
    "print(f\"w1: {w1}, w2: {w2}, w3: {w3}, w4: {w4}, w5: {w5}, w6: {w6}, w7: {w7}, w8: {w8}\")\n",
    "print(\"Hidden Layer Outputs: h1 =\", h1_output, \", h2 =\", h2_output)\n",
    "print(\"Output Layer Outputs: o1 =\", o1_output, \", o2 =\", o2_output)\n",
    "\n",
    "# Let me know if you’d like me to add anything else! 🚀\n"
   ]
  },
  {
   "cell_type": "code",
   "execution_count": 11,
   "id": "3698669f-c076-4543-aca9-d0978ba8ca38",
   "metadata": {},
   "outputs": [
    {
     "name": "stdout",
     "output_type": "stream",
     "text": [
      "w1: 0.15, w2: 0.2, w3: 0.25, w4: 0.3, w5: 0.4, w6: 0.45, w7: 0.5, w8: 0.55\n",
      "Hidden Layer Outputs: h1 = 0.3648766043861295 , h2 = 0.37136022787650763\n",
      "Output Layer Outputs: o1 = 0.7313533020508975 , o2 = 0.748019100588152\n"
     ]
    }
   ],
   "source": [
    "import numpy as np\n",
    "\n",
    "def tanh(x):\n",
    "    return np.tanh(x)\n",
    "\n",
    "i1, i2 = 0.05, 0.10\n",
    "\n",
    "b1, b2 = 0.35, 0.60\n",
    "\n",
    "w1, w2, w3, w4 = 0.15, 0.20, 0.25, 0.30\n",
    "w5, w6, w7, w8 = 0.40, 0.45, 0.50, 0.55\n",
    "\n",
    "h1_input = i1 * w1 + i2 * w3 + b1\n",
    "h2_input = i1 * w2 + i2 * w4 + b1\n",
    "\n",
    "h1_output = tanh(h1_input)\n",
    "h2_output = tanh(h2_input)\n",
    "\n",
    "o1_input = h1_output * w5 + h2_output * w7 + b2\n",
    "o2_input = h1_output * w6 + h2_output * w8 + b2\n",
    "\n",
    "o1_output = tanh(o1_input)\n",
    "o2_output = tanh(o2_input)\n",
    "\n",
    "print(f\"w1: {w1}, w2: {w2}, w3: {w3}, w4: {w4}, w5: {w5}, w6: {w6}, w7: {w7}, w8: {w8}\")\n",
    "print(\"Hidden Layer Outputs: h1 =\", h1_output, \", h2 =\", h2_output)\n",
    "print(\"Output Layer Outputs: o1 =\", o1_output, \", o2 =\", o2_output)"
   ]
  },
  {
   "cell_type": "code",
   "execution_count": null,
   "id": "bbfb81f4-9f1e-4510-8253-45b33d7b133f",
   "metadata": {},
   "outputs": [],
   "source": []
  }
 ],
 "metadata": {
  "kernelspec": {
   "display_name": "Python 3 (ipykernel)",
   "language": "python",
   "name": "python3"
  },
  "language_info": {
   "codemirror_mode": {
    "name": "ipython",
    "version": 3
   },
   "file_extension": ".py",
   "mimetype": "text/x-python",
   "name": "python",
   "nbconvert_exporter": "python",
   "pygments_lexer": "ipython3",
   "version": "3.12.7"
  }
 },
 "nbformat": 4,
 "nbformat_minor": 5
}
