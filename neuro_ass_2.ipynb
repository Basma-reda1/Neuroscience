{
 "cells": [
  {
   "cell_type": "code",
   "execution_count": 1,
   "id": "7a65c926-e196-40c7-837e-8a3e741e08c5",
   "metadata": {},
   "outputs": [
    {
     "name": "stdout",
     "output_type": "stream",
     "text": [
      "Epoch 0, Loss: 1.001020668395046\n",
      "Epoch 1000, Loss: 1.0052496930740347\n",
      "Epoch 2000, Loss: 1.0044015691147672\n",
      "Epoch 3000, Loss: 0.9852904051535163\n",
      "Epoch 4000, Loss: 0.8136388742024885\n",
      "Epoch 5000, Loss: 0.43906847291787926\n",
      "Epoch 6000, Loss: 0.23520339085109637\n",
      "Epoch 7000, Loss: 0.1717790637410082\n",
      "Epoch 8000, Loss: 0.14017835168917056\n",
      "Epoch 9000, Loss: 0.12074944880307427\n",
      "Results after training:\n",
      "Input: [0, 0], Output: [0.05840077200047634, 0.058397521777777295]\n",
      "Input: [0, 1], Output: [0.9487572099196364, 0.9487517144265709]\n",
      "Input: [1, 0], Output: [0.9487481015718574, 0.9487426082491323]\n",
      "Input: [1, 1], Output: [0.053752098876454206, 0.05376282871110035]\n"
     ]
    }
   ],
   "source": [
    "import math\n",
    "\n",
    "def sigmoid(x):\n",
    "    return 1 / (1 + math.exp(-x))\n",
    "\n",
    "def sigmoid_derivative(x):\n",
    "    return x * (1 - x)\n",
    "\n",
    "inputs = [[0, 0], [0, 1], [1, 0], [1, 1]]\n",
    "outputs = [[0], [1], [1], [0]]\n",
    "\n",
    "weights_input_hidden = [[0.5, 0.2], [0.3, 0.7]]\n",
    "weights_hidden_output = [[0.6, 0.9], [0.4, 0.8]]\n",
    "bias_hidden = [0.1, 0.5]\n",
    "bias_output = [0.3, 0.7]\n",
    "\n",
    "epochs = 10000\n",
    "learning_rate = 0.1\n",
    "\n",
    "for epoch in range(epochs):\n",
    "    total_loss = 0\n",
    "\n",
    "    for i, input_data in enumerate(inputs):\n",
    "        hidden_input = [0, 0]\n",
    "        hidden_output = [0, 0]\n",
    "\n",
    "        for j in range(2):\n",
    "            hidden_input[j] = sum(input_data[k] * weights_input_hidden[k][j] for k in range(2)) + bias_hidden[j]\n",
    "            hidden_output[j] = sigmoid(hidden_input[j])\n",
    "\n",
    "        output_input = [0, 0]\n",
    "        output_output = [0, 0]\n",
    "\n",
    "        for j in range(2):\n",
    "            output_input[j] = sum(hidden_output[k] * weights_hidden_output[k][j] for k in range(2)) + bias_output[j]\n",
    "            output_output[j] = sigmoid(output_input[j])\n",
    "\n",
    "        error = [outputs[i][0] - output_output[j] for j in range(2)]\n",
    "\n",
    "        d_output = [error[j] * sigmoid_derivative(output_output[j]) for j in range(2)]\n",
    "        d_hidden = [sum(d_output[j] * weights_hidden_output[i][j] for j in range(2)) * sigmoid_derivative(hidden_output[i]) for i in range(2)]\n",
    "\n",
    "        for j in range(2):\n",
    "            for k in range(2):\n",
    "                weights_hidden_output[k][j] += hidden_output[k] * d_output[j] * learning_rate\n",
    "                weights_input_hidden[k][j] += input_data[k] * d_hidden[j] * learning_rate\n",
    "\n",
    "            bias_output[j] += d_output[j] * learning_rate\n",
    "            bias_hidden[j] += d_hidden[j] * learning_rate\n",
    "\n",
    "        total_loss += sum(abs(e) for e in error)\n",
    "\n",
    "    if epoch % 1000 == 0:\n",
    "        print(f\"Epoch {epoch}, Loss: {total_loss / len(inputs)}\")\n",
    "\n",
    "print(\"Results after training:\")\n",
    "for i, input_data in enumerate(inputs):\n",
    "    hidden_output = [sigmoid(sum(input_data[k] * weights_input_hidden[k][j] for k in range(2)) + bias_hidden[j]) for j in range(2)]\n",
    "    output_output = [sigmoid(sum(hidden_output[k] * weights_hidden_output[k][j] for k in range(2)) + bias_output[j]) for j in range(2)]\n",
    "    print(f\"Input: {input_data}, Output: {output_output}\")"
   ]
  },
  {
   "cell_type": "code",
   "execution_count": null,
   "id": "76595113-3184-491c-add6-be5d9688f4d4",
   "metadata": {},
   "outputs": [],
   "source": []
  }
 ],
 "metadata": {
  "kernelspec": {
   "display_name": "Python 3 (ipykernel)",
   "language": "python",
   "name": "python3"
  },
  "language_info": {
   "codemirror_mode": {
    "name": "ipython",
    "version": 3
   },
   "file_extension": ".py",
   "mimetype": "text/x-python",
   "name": "python",
   "nbconvert_exporter": "python",
   "pygments_lexer": "ipython3",
   "version": "3.12.7"
  }
 },
 "nbformat": 4,
 "nbformat_minor": 5
}
